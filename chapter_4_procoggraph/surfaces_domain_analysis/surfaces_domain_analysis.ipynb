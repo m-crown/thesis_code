{
 "cells": [
  {
   "cell_type": "code",
   "execution_count": 241,
   "id": "52dd4c67-3f63-4af6-a9b7-103b736c699c",
   "metadata": {},
   "outputs": [],
   "source": [
    "import pandas as pd\n",
    "from gemmi import cif\n",
    "import os\n",
    "import seaborn as sns"
   ]
  },
  {
   "cell_type": "markdown",
   "id": "6dee8605-3d77-4c1d-929b-54548e079f54",
   "metadata": {},
   "source": [
    "# Minor Domains"
   ]
  },
  {
   "cell_type": "code",
   "execution_count": 156,
   "id": "7cdc732c-34c7-44d9-abcc-9cdc154bd460",
   "metadata": {},
   "outputs": [],
   "source": [
    "_2ag1 = pd.read_csv(\"List_2ag1_output.txt\", header=None, names=[\"residue\", \"ligand\", \"contact_value\"])\n",
    "_2ag1[[\"res\", \"pos\", \"chain\"]] = _2ag1.residue.str.extract(\"([A-z]{3})(\\d+)([A-z]+)\", expand = True)\n",
    "_2ag1[\"pos\"] = _2ag1[\"pos\"].astype(\"int\")\n",
    "_2ag1_A01_range = list(range(4,183 + 1))\n",
    "_2ag1_B03_range = list(range(364, 555 + 1))\n",
    "\n",
    "_2ag1_minor = _2ag1.loc[(_2ag1.pos.isin(_2ag1_A01_range)) & (_2ag1.chain == \"A\")].contact_value.sum()\n",
    "_2ag1_dominant = _2ag1.loc[(_2ag1.pos.isin(_2ag1_B03_range)) & (_2ag1.chain == \"B\")].contact_value.sum()\n",
    "\n",
    "_2y5l = pd.read_csv(\"List_2y5l_output.txt\", header=None, names=[\"residue\", \"ligand\", \"contact_value\"])\n",
    "_2y5l[[\"res\", \"pos\", \"chain\"]] = _2y5l.residue.str.extract(\"([A-z]{3})(\\d+)([A-z]+)\", expand = True)\n",
    "_2y5l[\"pos\"] = _2y5l[\"pos\"].astype(\"int\")\n",
    "_2y5l_A01_range = list(range(9, 199 + 1))\n",
    "_2y5l_C01_range = list(range(9, 199 + 1))\n",
    "\n",
    "_2y5l_dominant = _2y5l.loc[(_2y5l.pos.isin(_2y5l_A01_range)) & (_2y5l.chain == \"A\")].contact_value.sum()\n",
    "_2y5l_minor = _2y5l.loc[(_2y5l.pos.isin(_2y5l_C01_range)) & (_2y5l.chain == \"C\")].contact_value.sum()\n",
    "\n",
    "_3n6e = pd.read_csv(\"List_3n6e_output.txt\", header=None, names=[\"residue\", \"ligand\", \"contact_value\"])\n",
    "_3n6e[[\"res\", \"pos\", \"chain\"]] = _3n6e.residue.str.extract(\"([A-z]{3})(\\d+)([A-z]+)\", expand = True)\n",
    "_3n6e[\"pos\"] = _3n6e[\"pos\"].astype(\"int\")\n",
    "_3n6e_A01_range = list(range(84, 201 + 1)) + list(range(228, 238 + 1)) + list(range(342, 356 + 1)) + list(range(426,450 + 1))\n",
    "_3n6e_A03_range = list(range(314, 336 + 1)) + list(range(359, 424 + 1))\n",
    "\n",
    "_3n6e_minor = _3n6e.loc[(_3n6e.pos.isin(_3n6e_A03_range)) & (_3n6e.chain == \"A\")].contact_value.sum()\n",
    "_3n6e_dominant = _3n6e.loc[(_3n6e.pos.isin(_3n6e_A01_range)) & (_3n6e.chain == \"A\")].contact_value.sum()\n",
    "\n",
    "_4kcn = pd.read_csv(\"List_4kcn_output.txt\", header=None, names=[\"residue\", \"ligand\", \"contact_value\"])\n",
    "_4kcn[[\"res\", \"pos\", \"chain\"]] = _4kcn.residue.str.extract(\"([A-z]{3})(\\d+)([A-z]+)\", expand = True)\n",
    "_4kcn[\"pos\"] = _4kcn[\"pos\"].astype(\"int\")\n",
    "_4kcn_A01_range = list(range(314, 430 + 1)) + list(range(457, 467 + 1)) + list(range(571, 585 + 1)) + list(range(655, 679 + 1))\n",
    "_4kcn_A03_range = list(range(543, 565 + 1)) + list(range(588, 653 + 1))\n",
    "\n",
    "_4kcn_dominant = _4kcn.loc[(_4kcn.pos.isin(_4kcn_A01_range)) & (_4kcn.chain == \"A\")].contact_value.sum()\n",
    "_4kcn_minor = _4kcn.loc[(_4kcn.pos.isin(_4kcn_A03_range)) & (_4kcn.chain == \"A\")].contact_value.sum()\n",
    "\n",
    "_5g6k = pd.read_csv(\"List_5g6k_output.txt\", header=None, names=[\"residue\", \"ligand\", \"contact_value\"])\n",
    "_5g6k[[\"res\", \"pos\", \"chain\"]] = _5g6k.residue.str.extract(\"([A-z]{3})(\\d+)([A-z]+)\", expand = True)\n",
    "_5g6k[\"pos\"] = _5g6k[\"pos\"].astype(\"int\")\n",
    "_5g6k_A01_range = list(range(2,81 + 1)) + list(range(108, 118 + 1)) + list(range(222,236 + 1)) + list(range(306, 330 + 1))\n",
    "_5g6k_A03_range = list(range(194,216 + 1)) + list(range(239, 304 + 1))\n",
    "_5g6k_dominant = _5g6k.loc[(_5g6k.pos.isin(_5g6k_A01_range)) & (_5g6k.chain == \"A\")].contact_value.sum()\n",
    "_5g6k_minor = _5g6k.loc[(_5g6k.pos.isin(_5g6k_A03_range)) & (_5g6k.chain == \"A\")].contact_value.sum()\n",
    "\n",
    "_6ngu = pd.read_csv(\"List_6ngu_output.txt\", header=None, names=[\"residue\", \"ligand\", \"contact_value\"])\n",
    "_6ngu[[\"res\", \"pos\", \"chain\"]] = _6ngu.residue.str.extract(\"([A-z]{3})(\\d+)([A-z]+)\", expand = True)\n",
    "_6ngu[\"pos\"] = _6ngu[\"pos\"].astype(\"int\")\n",
    "_6ngu_A01_range = list(range(314,430 + 1)) + list(range(457,467 + 1)) + list(range(571, 585 + 1)) + list(range(655,679 + 1))\n",
    "_6ngu_A03_range = list(range(543,565 + 1)) + list(range(588, 653 + 1))\n",
    "_6ngu_dominant = _6ngu.loc[(_6ngu.pos.isin(_6ngu_A01_range)) & (_6ngu.chain == \"A\")].contact_value.sum()\n",
    "_6ngu_minor = _6ngu.loc[(_6ngu.pos.isin(_6ngu_A03_range)) & (_6ngu.chain == \"A\")].contact_value.sum()\n",
    "\n",
    "_3nlf = pd.read_csv(\"List_3nlf_output.txt\", header=None, names=[\"residue\", \"ligand\", \"contact_value\"])\n",
    "_3nlf[[\"res\", \"pos\", \"chain\"]] = _3nlf.residue.str.extract(\"([A-z]{3})(\\d+)([A-z]+)\", expand = True)\n",
    "_3nlf[\"pos\"] = _3nlf[\"pos\"].astype(\"int\")\n",
    "_3nlf_B01_range = list(range(84,201 + 1)) + list(range(228,238 + 1)) + list(range(342,356 + 1)) + list(range(426,450 + 1))\n",
    "_3nlf_B03_range = list(range(314,336 + 1)) + list(range(359, 424 + 1))\n",
    "_3nlf_dominant = _3nlf.loc[(_3nlf.pos.isin(_3nlf_B01_range)) & (_3nlf.chain == \"B\")].contact_value.sum()\n",
    "_3nlf_minor = _3nlf.loc[(_3nlf.pos.isin(_3nlf_B03_range)) & (_3nlf.chain == \"B\")].contact_value.sum()\n",
    "\n",
    "_3udm = pd.read_csv(\"List_3udm_output.txt\", header=None, names=[\"residue\", \"ligand\", \"contact_value\"])\n",
    "_3udm[[\"res\", \"pos\", \"chain\"]] = _3udm.residue.str.extract(\"([A-z]{3})(\\d+)([A-z]+)\", expand = True)\n",
    "_3udm[\"pos\"] = _3udm[\"pos\"].astype(\"int\")\n",
    "_3udm_A01_range = list(range(14,146 + 1))\n",
    "_3udm_A02_range = list(range(147,398 + 1)) \n",
    "_3udm_dominant = _3udm.loc[(_3udm.pos.isin(_3udm_A01_range)) & (_3udm.chain == \"A\")].contact_value.sum()\n",
    "_3udm_minor = _3udm.loc[(_3udm.pos.isin(_3udm_A02_range)) & (_3udm.chain == \"A\")].contact_value.sum()\n",
    "\n",
    "_4cww = pd.read_csv(\"List_4cww_output.txt\", header=None, names=[\"residue\", \"ligand\", \"contact_value\"])\n",
    "_4cww[[\"res\", \"pos\", \"chain\"]] = _4cww.residue.str.extract(\"([A-z]{3})(\\d+)([A-z]+)\", expand = True)\n",
    "_4cww[\"pos\"] = _4cww[\"pos\"].astype(\"int\")\n",
    "_4cww_A01_range = list(range(84,201 + 1)) + list(range(228,238 + 1)) + list(range(342,356 + 1)) + list(range(426,450 + 1))\n",
    "_4cww_A03_range = list(range(314,336 + 1)) + list(range(359,424 + 1))\n",
    "_4cww_dominant = _4cww.loc[(_4cww.pos.isin(_4cww_A01_range)) & (_4cww.chain == \"A\")].contact_value.sum()\n",
    "_4cww_minor = _4cww.loc[(_4cww.pos.isin(_4cww_A03_range)) & (_4cww.chain == \"A\")].contact_value.sum()\n",
    "\n",
    "_4f8y = pd.read_csv(\"List_4f8y_output.txt\", header=None, names=[\"residue\", \"ligand\", \"contact_value\"])\n",
    "_4f8y[[\"res\", \"pos\", \"chain\"]] = _4f8y.residue.str.extract(\"([A-z]{3})(\\d+)([A-z]+)\", expand = True)\n",
    "_4f8y[\"pos\"] = _4f8y[\"pos\"].astype(\"int\")\n",
    "_4f8y_A00_range = list(range(1,196 + 1))\n",
    "_4f8y_B00_range = list(range(1,188 + 1))\n",
    "_4f8y_dominant = _4f8y.loc[(_4f8y.pos.isin(_4f8y_A00_range)) & (_4f8y.chain == \"A\")].contact_value.sum()\n",
    "_4f8y_minor = _4f8y.loc[(_4f8y.pos.isin(_4f8y_B00_range)) & (_4f8y.chain == \"B\")].contact_value.sum()\n",
    "\n",
    "minor_list = [_2ag1_minor, _2y5l_minor, _3n6e_minor, _4kcn_minor, _5g6k_minor, _6ngu_minor, _3nlf_minor, _3udm_minor, _4cww_minor, _4f8y_minor]\n",
    "\n",
    "print(sum(minor_list) / len(minor_list))"
   ]
  },
  {
   "cell_type": "markdown",
   "id": "3d25aeea-2f22-45ae-81f1-cd7f69aa1dbe",
   "metadata": {},
   "source": [
    "# Low Partner Domains"
   ]
  },
  {
   "cell_type": "code",
   "execution_count": 166,
   "id": "53044606-9444-426e-964b-27db24ce42e1",
   "metadata": {},
   "outputs": [],
   "source": [
    "_5iw8 = pd.read_csv(\"List_5iw8_output.txt\", header=None, names=[\"residue\", \"ligand\", \"contact_value\"])\n",
    "_5iw8[[\"res\", \"pos\", \"chain\"]] = _5iw8.residue.str.extract(\"([A-z]{3})(\\d+)([A-z]+)\", expand = True)\n",
    "_5iw8[\"pos\"] = _5iw8[\"pos\"].astype(\"int\")\n",
    "_5iw8_A01_range = list(range(3,44 + 1)) + list(range(165,317 + 1))\n",
    "_5iw8_A02_range = list(range(45, 151 + 1))\n",
    "\n",
    "_5iw8_high = _5iw8.loc[(_5iw8.pos.isin(_5iw8_A01_range)) & (_5iw8.chain == \"A\")].contact_value.sum()\n",
    "_5iw8_med = _5iw8.loc[(_5iw8.pos.isin(_5iw8_A02_range)) & (_5iw8.chain == \"A\")].contact_value.sum()\n",
    "\n",
    "_6dep = pd.read_csv(\"List_6dep_output.txt\", header=None, names=[\"residue\", \"ligand\", \"contact_value\"])\n",
    "_6dep[[\"res\", \"pos\", \"chain\"]] = _6dep.residue.str.extract(\"([A-z]{3})(\\d+)([A-z]+)\", expand = True)\n",
    "_6dep[\"pos\"] = _6dep[\"pos\"].astype(\"int\")\n",
    "_6dep_A02_range = list(range(266,455 + 1))\n",
    "_6dep_A03_range = list(range(456,683 + 1))\n",
    "\n",
    "_6dep_high = _6dep.loc[(_6dep.pos.isin(_6dep_A02_range)) & (_6dep.chain == \"A\")].contact_value.sum()\n",
    "_6dep_med = _6dep.loc[(_6dep.pos.isin(_6dep_A03_range)) & (_6dep.chain == \"A\")].contact_value.sum()\n",
    "\n",
    "_6q94 = pd.read_csv(\"List_6q94_output.txt\", header=None, names=[\"residue\", \"ligand\", \"contact_value\"])\n",
    "_6q94[[\"res\", \"pos\", \"chain\"]] = _6q94.residue.str.extract(\"([A-z]{3})(\\d+)([A-z]+)\", expand = True)\n",
    "_6q94[\"pos\"] = _6q94[\"pos\"].astype(\"int\")\n",
    "_6q94_D01_range = list(range(23,214 + 1)) + list(range(250,277 + 1)) + list(range(329, 349 + 1))\n",
    "_6q94_F01_range = list(range(23,214 + 1)) + list(range(250, 277 + 1)) + list(range(329, 349 + 1))\n",
    "\n",
    "_6q94_high = _6q94.loc[(_6q94.pos.isin(_6q94_D01_range)) & (_6q94.chain == \"D\")].contact_value.sum()\n",
    "_6q94_med = _6q94.loc[(_6q94.pos.isin(_6q94_F01_range)) & (_6q94.chain == \"F\")].contact_value.sum()\n",
    "\n",
    "_1orw = pd.read_csv(\"List_1orw_output.txt\", header=None, names=[\"residue\", \"ligand\", \"contact_value\"])\n",
    "_1orw[[\"res\", \"pos\", \"chain\"]] = _1orw.residue.str.extract(\"([A-z]{3})(\\d+)([A-z]+)\", expand = True)\n",
    "_1orw[\"pos\"] = _1orw[\"pos\"].astype(\"int\")\n",
    "_1orw_D01_range = list(range(39,508 + 1))\n",
    "_1orw_D02_range = list(range(509,766 + 1))\n",
    "\n",
    "_1orw_high = _1orw.loc[(_1orw.pos.isin(_1orw_D01_range)) & (_1orw.chain == \"D\")].contact_value.sum()\n",
    "_1orw_med = _1orw.loc[(_1orw.pos.isin(_1orw_D02_range)) & (_1orw.chain == \"D\")].contact_value.sum()\n",
    "\n",
    "_4hfm = pd.read_csv(\"List_4hfm_output.txt\", header=None, names=[\"residue\", \"ligand\", \"contact_value\"])\n",
    "_4hfm[[\"res\", \"pos\", \"chain\"]] = _4hfm.residue.str.extract(\"([A-z]{3})(\\d+)([A-z]+)\", expand = True)\n",
    "_4hfm[\"pos\"] = _4hfm[\"pos\"].astype(\"int\")\n",
    "_4hfm_B01_range = list(range(2,132 + 1)) + list(range(310,343 + 1))\n",
    "_4hfm_B02_range = list(range(133, 309 + 1))\n",
    "\n",
    "_4hfm_med = _4hfm.loc[(_4hfm.pos.isin(_4hfm_B01_range)) & (_4hfm.chain == \"B\")].contact_value.sum()\n",
    "_4hfm_high = _4hfm.loc[(_4hfm.pos.isin(_4hfm_B02_range)) & (_4hfm.chain == \"B\")].contact_value.sum()\n",
    "\n",
    "_2o2q = pd.read_csv(\"List_2o2q_output.txt\", header=None, names=[\"residue\", \"ligand\", \"contact_value\"])\n",
    "_2o2q[[\"res\", \"pos\", \"chain\"]] = _2o2q.residue.str.extract(\"([A-z]{3})(\\d+)([A-z]+)\", expand = True)\n",
    "_2o2q[\"pos\"] = _2o2q[\"pos\"].astype(\"int\")\n",
    "_2o2q_C01_range = list(range(410,675 + 1)) + list(range(868, 902 + 1))\n",
    "_2o2q_C02_range = list(range(676,867 + 1))\n",
    "\n",
    "_2o2q_high = _2o2q.loc[(_2o2q.pos.isin(_2o2q_C01_range)) & (_2o2q.chain == \"C\")].contact_value.sum()\n",
    "_2o2q_med = _2o2q.loc[(_2o2q.pos.isin(_2o2q_C02_range)) & (_2o2q.chain == \"C\")].contact_value.sum()\n",
    "\n",
    "_1v2p = pd.read_csv(\"List_1v2p_output.txt\", header=None, names=[\"residue\", \"ligand\", \"contact_value\"])\n",
    "_1v2p[[\"res\", \"pos\", \"chain\"]] = _1v2p.residue.str.extract(\"([A-z]{3})(\\d+)([A-z]+)\", expand = True)\n",
    "_1v2p[\"pos\"] = _1v2p[\"pos\"].astype(\"int\")\n",
    "_1v2p_T01_range = list(range(16,27 + 1)) + list(range(121, 232 + 1))\n",
    "_1v2p_T02_range = list(range(28,120 + 1)) + list(range(233,245 + 1))\n",
    "\n",
    "_1v2p_med = _1v2p.loc[(_1v2p.pos.isin(_1v2p_T01_range)) & (_1v2p.chain == \"T\")].contact_value.sum()\n",
    "_1v2p_high = _1v2p.loc[(_1v2p.pos.isin(_1v2p_T02_range)) & (_1v2p.chain == \"T\")].contact_value.sum()\n",
    "\n",
    "_3g1u = pd.read_csv(\"List_3g1u_output.txt\", header=None, names=[\"residue\", \"ligand\", \"contact_value\"])\n",
    "_3g1u[[\"res\", \"pos\", \"chain\"]] = _3g1u.residue.str.extract(\"([A-z]{3})(\\d+)([A-z]+)\", expand = True)\n",
    "_3g1u[\"pos\"] = _3g1u[\"pos\"].astype(\"int\")\n",
    "_3g1u_D01_range = list(range(3,191 + 1)) + list(range(352, 409 + 1))\n",
    "_3g1u_D02_range = list(range(192, 351 + 1))\n",
    "\n",
    "_3g1u_high = _3g1u.loc[(_3g1u.pos.isin(_3g1u_D01_range)) & (_3g1u.chain == \"D\")].contact_value.sum()\n",
    "_3g1u_med = _3g1u.loc[(_3g1u.pos.isin(_3g1u_D02_range)) & (_3g1u.chain == \"D\")].contact_value.sum()\n",
    "\n",
    "_3hu2 = pd.read_csv(\"List_3hu2_output.txt\", header=None, names=[\"residue\", \"ligand\", \"contact_value\"])\n",
    "_3hu2[[\"res\", \"pos\", \"chain\"]] = _3hu2.residue.str.extract(\"([A-z]{3})(\\d+)([A-z]+)\", expand = True)\n",
    "_3hu2[\"pos\"] = _3hu2[\"pos\"].astype(\"int\")\n",
    "_3hu2_D03_range = list(range(201, 370 + 1))\n",
    "_3hu2_D04_range = list(range(371, 463 + 1))\n",
    "\n",
    "_3hu2_high = _3hu2.loc[(_3hu2.pos.isin(_3hu2_D03_range)) & (_3hu2.chain == \"D\")].contact_value.sum()\n",
    "_3hu2_med = _3hu2.loc[(_3hu2.pos.isin(_3hu2_D04_range)) & (_3hu2.chain == \"D\")].contact_value.sum()\n",
    "\n",
    "med_list = [_5iw8_med, _6dep_med, _6q94_med, _1orw_med, _1n95_med, _4hfm_med, _2o2q_med, _1v2p_med, _3g1u_med, _3hu2_med] \n",
    "\n",
    "print(sum(med_list) / len(med_list))"
   ]
  },
  {
   "cell_type": "code",
   "execution_count": 296,
   "id": "69a71d24-1a40-4127-b9ea-9892e70a8c92",
   "metadata": {},
   "outputs": [],
   "source": [
    "med_df = pd.DataFrame({\"interaction_energy\": med_list, \"type\": \"med\"})\n",
    "min_df = pd.DataFrame({\"interaction_energy\": minor_list, \"type\": \"min\"})\n",
    "all_df = pd.concat([med_df, min_df])"
   ]
  },
  {
   "cell_type": "code",
   "execution_count": 298,
   "id": "c1f99aa7-a3b9-4c37-8b8f-97a5f79beaf9",
   "metadata": {},
   "outputs": [
    {
     "data": {
      "text/plain": [
       "<Axes: ylabel='interaction_energy'>"
      ]
     },
     "execution_count": 298,
     "metadata": {},
     "output_type": "execute_result"
    },
    {
     "data": {
      "image/png": "[encoded data removed]",
      "text/plain": [
       "<Figure size 640x480 with 1 Axes>"
      ]
     },
     "metadata": {},
     "output_type": "display_data"
    }
   ],
   "source": [
    "sns.violinplot(data = all_df, y = \"interaction_energy\", hue = \"type\")"
   ]
  },
  {
   "cell_type": "code",
   "execution_count": 119,
   "id": "d2f36370-de0c-45d6-8656-6504860124b6",
   "metadata": {},
   "outputs": [],
   "source": [
    "#look at the mean ration between domiannt and minor domain? then compare to above minor ratio?"
   ]
  }
 ],
 "metadata": {
  "kernelspec": {
   "display_name": "Python [conda env:procoggraph]",
   "language": "python",
   "name": "conda-env-procoggraph-py"
  },
  "language_info": {
   "codemirror_mode": {
    "name": "ipython",
    "version": 3
   },
   "file_extension": ".py",
   "mimetype": "text/x-python",
   "name": "python",
   "nbconvert_exporter": "python",
   "pygments_lexer": "ipython3",
   "version": "3.11.9"
  }
 },
 "nbformat": 4,
 "nbformat_minor": 5
}
